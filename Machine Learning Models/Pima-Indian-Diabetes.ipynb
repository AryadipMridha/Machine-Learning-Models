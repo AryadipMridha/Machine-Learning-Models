{
 "cells": [
  {
   "cell_type": "markdown",
   "id": "77a2dd19",
   "metadata": {},
   "source": [
    "Task 1 : Import the necessary Python libraries for data preprocessing, including the `SimpleImputer` class from the scikit-learn library."
   ]
  },
  {
   "cell_type": "code",
   "execution_count": 2,
   "id": "27d0a72c",
   "metadata": {},
   "outputs": [
    {
     "ename": "ModuleNotFoundError",
     "evalue": "No module named 'pandas'",
     "output_type": "error",
     "traceback": [
      "\u001b[1;31m---------------------------------------------------------------------------\u001b[0m",
      "\u001b[1;31mModuleNotFoundError\u001b[0m                       Traceback (most recent call last)",
      "Cell \u001b[1;32mIn[2], line 1\u001b[0m\n\u001b[1;32m----> 1\u001b[0m \u001b[39mimport\u001b[39;00m \u001b[39mpandas\u001b[39;00m \u001b[39mas\u001b[39;00m  \u001b[39mpd\u001b[39;00m \n\u001b[0;32m      2\u001b[0m \u001b[39mimport\u001b[39;00m \u001b[39mnumpy\u001b[39;00m \u001b[39mas\u001b[39;00m \u001b[39mnp\u001b[39;00m \n\u001b[0;32m      3\u001b[0m \u001b[39mfrom\u001b[39;00m \u001b[39msklearn\u001b[39;00m\u001b[39m.\u001b[39;00m\u001b[39mimpute\u001b[39;00m \u001b[39mimport\u001b[39;00m SimpleImputer\n",
      "\u001b[1;31mModuleNotFoundError\u001b[0m: No module named 'pandas'"
     ]
    }
   ],
   "source": [
    "import pandas as  pd \n",
    "import numpy as np \n",
    "from sklearn.impute import SimpleImputer"
   ]
  },
  {
   "cell_type": "markdown",
   "id": "3db2abd9",
   "metadata": {},
   "source": [
    "Task 2 : Load the dataset into a pandas DataFrame using the `read_csv` function from the pandas library. The dataset name is 'diabetes.csv'"
   ]
  },
  {
   "cell_type": "code",
   "execution_count": 3,
   "id": "de7f69d0",
   "metadata": {},
   "outputs": [
    {
     "ename": "NameError",
     "evalue": "name 'pd' is not defined",
     "output_type": "error",
     "traceback": [
      "\u001b[1;31m---------------------------------------------------------------------------\u001b[0m",
      "\u001b[1;31mNameError\u001b[0m                                 Traceback (most recent call last)",
      "Cell \u001b[1;32mIn[3], line 2\u001b[0m\n\u001b[0;32m      1\u001b[0m dataset_path \u001b[39m=\u001b[39m \u001b[39m'\u001b[39m\u001b[39mDatasets/diabetes.csv\u001b[39m\u001b[39m'\u001b[39m\n\u001b[1;32m----> 2\u001b[0m dataset \u001b[39m=\u001b[39m pd\u001b[39m.\u001b[39mread_csv(dataset_path)\n\u001b[0;32m      3\u001b[0m \u001b[39mprint\u001b[39m(dataset\u001b[39m.\u001b[39mhead(\u001b[39m10\u001b[39m))\n",
      "\u001b[1;31mNameError\u001b[0m: name 'pd' is not defined"
     ]
    }
   ],
   "source": [
    "dataset_path = 'Datasets/diabetes.csv'\n",
    "dataset = pd.read_csv(dataset_path)\n",
    "print(dataset.head(10))"
   ]
  },
  {
   "cell_type": "code",
   "execution_count": 3,
   "id": "0eea1650",
   "metadata": {},
   "outputs": [
    {
     "name": "stdout",
     "output_type": "stream",
     "text": [
      "     Pregnancies  Glucose  BloodPressure  SkinThickness  Insulin   BMI  \\\n",
      "0              6      148             72             35        0  33.6   \n",
      "1              1       85             66             29        0  26.6   \n",
      "2              8      183             64              0        0  23.3   \n",
      "3              1       89             66             23       94  28.1   \n",
      "4              0      137             40             35      168  43.1   \n",
      "..           ...      ...            ...            ...      ...   ...   \n",
      "763           10      101             76             48      180  32.9   \n",
      "764            2      122             70             27        0  36.8   \n",
      "765            5      121             72             23      112  26.2   \n",
      "766            1      126             60              0        0  30.1   \n",
      "767            1       93             70             31        0  30.4   \n",
      "\n",
      "     DiabetesPedigreeFunction  Age  \n",
      "0                       0.627   50  \n",
      "1                       0.351   31  \n",
      "2                       0.672   32  \n",
      "3                       0.167   21  \n",
      "4                       2.288   33  \n",
      "..                        ...  ...  \n",
      "763                     0.171   63  \n",
      "764                     0.340   27  \n",
      "765                     0.245   30  \n",
      "766                     0.349   47  \n",
      "767                     0.315   23  \n",
      "\n",
      "[768 rows x 8 columns]\n"
     ]
    }
   ],
   "source": [
    "#Matrix of Features\n",
    "X=dataset.iloc[:,:-1]\n",
    "print(X)"
   ]
  },
  {
   "cell_type": "markdown",
   "id": "d1466163",
   "metadata": {},
   "source": [
    "Task 3 :  Identify missing data in your dataset. Print out the number of missing entries in each column. Analyze its potential impact on machine learning model training. This step is crucial as missing data can lead to inaccurate and misleading results."
   ]
  },
  {
   "cell_type": "code",
   "execution_count": 4,
   "id": "7f8f35d7",
   "metadata": {},
   "outputs": [
    {
     "name": "stdout",
     "output_type": "stream",
     "text": [
      "[1 0 1 0 1 0 1 0 1 1 0 1 0 1 1 1 1 1 0 1 0 0 1 1 1 1 1 0 0 0 0 1 0 0 0 0 0\n",
      " 1 1 1 0 0 0 1 0 1 0 0 1 0 0 0 0 1 0 0 1 0 0 0 0 1 0 0 1 0 1 0 0 0 1 0 1 0\n",
      " 0 0 0 0 1 0 0 0 0 0 1 0 0 0 1 0 0 0 0 1 0 0 0 0 0 1 1 0 0 0 0 0 0 0 0 1 1\n",
      " 1 0 0 1 1 1 0 0 0 1 0 0 0 1 1 0 0 1 1 1 1 1 0 0 0 0 0 0 0 0 0 0 1 0 0 0 0\n",
      " 0 0 0 0 1 0 1 1 0 0 0 1 0 0 0 0 1 1 0 0 0 0 1 1 0 0 0 1 0 1 0 1 0 0 0 0 0\n",
      " 1 1 1 1 1 0 0 1 1 0 1 0 1 1 1 0 0 0 0 0 0 1 1 0 1 0 0 0 1 1 1 1 0 1 1 1 1\n",
      " 0 0 0 0 0 1 0 0 1 1 0 0 0 1 1 1 1 0 0 0 1 1 0 1 0 0 0 0 0 0 0 0 1 1 0 0 0\n",
      " 1 0 1 0 0 1 0 1 0 0 1 1 0 0 0 0 0 1 0 0 0 1 0 0 1 1 0 0 1 0 0 0 1 1 1 0 0\n",
      " 1 0 1 0 1 1 0 1 0 0 1 0 1 1 0 0 1 0 1 0 0 1 0 1 0 1 1 1 0 0 1 0 1 0 0 0 1\n",
      " 0 0 0 0 1 1 1 0 0 0 0 0 0 0 0 0 1 0 0 0 0 0 1 1 1 0 1 1 0 0 1 0 0 1 0 0 1\n",
      " 1 0 0 0 0 1 0 0 1 0 0 0 0 0 0 0 1 1 1 0 0 1 0 0 1 0 0 1 0 1 1 0 1 0 1 0 1\n",
      " 0 1 1 0 0 0 0 1 1 0 1 0 1 0 0 0 0 1 1 0 1 0 1 0 0 0 0 0 1 0 0 0 0 1 0 0 1\n",
      " 1 1 0 0 1 0 0 1 0 0 0 1 0 0 1 0 0 0 0 0 0 0 0 0 1 0 0 0 0 0 0 0 1 0 0 0 1\n",
      " 0 0 0 1 1 0 0 0 0 0 0 0 1 0 0 0 0 1 0 0 0 1 0 0 0 1 0 0 0 1 0 0 0 0 1 1 0\n",
      " 0 0 0 0 0 1 0 0 0 0 0 0 0 0 0 0 0 1 0 0 0 1 1 1 1 0 0 1 1 0 0 0 0 0 0 0 0\n",
      " 0 0 0 0 0 1 1 0 0 0 0 0 0 0 1 0 0 0 0 0 0 0 1 0 1 1 0 0 0 1 0 1 0 1 0 1 0\n",
      " 1 0 0 1 0 0 1 0 0 0 0 1 1 0 1 0 0 0 0 1 1 0 1 0 0 0 1 1 0 0 0 0 0 0 0 0 0\n",
      " 0 1 0 0 0 0 1 0 0 1 0 0 0 1 0 0 0 1 1 1 0 0 0 0 0 0 1 0 0 0 1 0 1 1 1 1 0\n",
      " 1 1 0 0 0 0 0 0 0 1 1 0 1 0 0 1 0 1 0 0 0 0 0 1 0 1 0 1 0 1 1 0 0 0 0 1 1\n",
      " 0 0 0 1 0 1 1 0 0 1 0 0 1 1 0 0 1 0 0 1 0 0 0 0 0 0 0 1 1 1 0 0 0 0 0 0 1\n",
      " 1 0 0 1 0 0 1 0 1 1 1 0 0 1 1 1 0 1 0 1 0 1 0 0 0 0 1 0]\n"
     ]
    }
   ],
   "source": [
    "#Features of Dependables\n",
    "y= dataset.iloc[:,-1].values\n",
    "print(y)"
   ]
  },
  {
   "cell_type": "code",
   "execution_count": 5,
   "id": "385e71a9",
   "metadata": {},
   "outputs": [
    {
     "name": "stdout",
     "output_type": "stream",
     "text": [
      "nan\n"
     ]
    }
   ],
   "source": [
    "NaN= np.nan\n",
    "print(NaN)"
   ]
  },
  {
   "cell_type": "markdown",
   "id": "7ab5f21b",
   "metadata": {},
   "source": [
    "Task 4 :  Implement a strategy for handling missing data, which is to replace it with the mean value, based on the nature of your dataset. Other strategies might include dropping the rows or columns with missing data, or replacing the missing data with a median or a constant value"
   ]
  },
  {
   "cell_type": "markdown",
   "id": "e01ffbd5",
   "metadata": {},
   "source": [
    "Task 5: Configure an instance of the `SimpleImputer` class to replace missing values with the mean value of the column."
   ]
  },
  {
   "cell_type": "markdown",
   "id": "edea8a7d",
   "metadata": {},
   "source": [
    "Task 6: Apply the `fit` method of the `SimpleImputer` class on the numerical columns of your matrix of features."
   ]
  },
  {
   "cell_type": "markdown",
   "id": "7a87c667",
   "metadata": {},
   "source": [
    "Task 7: Use the `transform` method of the `SimpleImputer` class to replace missing data in the specified numerical columns."
   ]
  },
  {
   "cell_type": "code",
   "execution_count": 14,
   "id": "b7786920",
   "metadata": {},
   "outputs": [],
   "source": [
    "imputer=SimpleImputer(missing_values=np.nan,strategy=\"mean\")\n",
    "numerical_columns=dataset.select_dtypes(include='number')\n",
    "imputer.fit(numerical_columns)\n",
    "numerical_colummns_imputed=imputer.transform(numerical_columns)"
   ]
  },
  {
   "cell_type": "markdown",
   "id": "ceb05090",
   "metadata": {},
   "source": [
    "Task 8 : Update the matrix of features by assigning the result of the `transform` method to the correct columns.\n"
   ]
  },
  {
   "cell_type": "markdown",
   "id": "8ada8468",
   "metadata": {},
   "source": [
    "Task 9 :  Print your updated matrix of features to verify the success of the missing data replacement."
   ]
  },
  {
   "cell_type": "code",
   "execution_count": 16,
   "id": "81345bfa",
   "metadata": {},
   "outputs": [],
   "source": [
    "for i , column in enumerate(numerical_columns.columns):\n",
    "    dataset[column]=numerical_colummns_imputed\n"
   ]
  },
  {
   "cell_type": "code",
   "execution_count": 17,
   "id": "50ba8099",
   "metadata": {},
   "outputs": [
    {
     "name": "stdout",
     "output_type": "stream",
     "text": [
      "   Pregnancies  Glucose  BloodPressure  SkinThickness  Insulin  BMI  \\\n",
      "0          6.0      6.0            6.0            6.0      6.0  6.0   \n",
      "1          1.0      1.0            1.0            1.0      1.0  1.0   \n",
      "2          8.0      8.0            8.0            8.0      8.0  8.0   \n",
      "3          1.0      1.0            1.0            1.0      1.0  1.0   \n",
      "4          0.0      0.0            0.0            0.0      0.0  0.0   \n",
      "\n",
      "   DiabetesPedigreeFunction  Age  Outcome  \n",
      "0                       6.0  6.0      6.0  \n",
      "1                       1.0  1.0      1.0  \n",
      "2                       8.0  8.0      8.0  \n",
      "3                       1.0  1.0      1.0  \n",
      "4                       0.0  0.0      0.0  \n"
     ]
    }
   ],
   "source": [
    "print(dataset.head())"
   ]
  }
 ],
 "metadata": {
  "kernelspec": {
   "display_name": "Python 3 (ipykernel)",
   "language": "python",
   "name": "python3"
  },
  "language_info": {
   "codemirror_mode": {
    "name": "ipython",
    "version": 3
   },
   "file_extension": ".py",
   "mimetype": "text/x-python",
   "name": "python",
   "nbconvert_exporter": "python",
   "pygments_lexer": "ipython3",
   "version": "3.11.3"
  }
 },
 "nbformat": 4,
 "nbformat_minor": 5
}
